{
 "cells": [
  {
   "cell_type": "markdown",
   "metadata": {},
   "source": [
    "# ML Pipeline Preparation\n",
    "Follow the instructions below to help you create your ML pipeline.\n",
    "### 1. Import libraries and load data from database.\n",
    "- Import Python libraries\n",
    "- Load dataset from database with [`read_sql_table`](https://pandas.pydata.org/pandas-docs/stable/generated/pandas.read_sql_table.html)\n",
    "- Define feature and target variables X and Y"
   ]
  },
  {
   "cell_type": "code",
   "execution_count": 49,
   "metadata": {},
   "outputs": [
    {
     "name": "stderr",
     "output_type": "stream",
     "text": [
      "[nltk_data] Downloading package stopwords to\n",
      "[nltk_data]     /Users/minyan/nltk_data...\n",
      "[nltk_data]   Package stopwords is already up-to-date!\n",
      "[nltk_data] Downloading package wordnet to /Users/minyan/nltk_data...\n",
      "[nltk_data]   Package wordnet is already up-to-date!\n",
      "[nltk_data] Downloading package punkt to /Users/minyan/nltk_data...\n",
      "[nltk_data]   Package punkt is already up-to-date!\n"
     ]
    },
    {
     "data": {
      "text/plain": [
       "True"
      ]
     },
     "execution_count": 49,
     "metadata": {},
     "output_type": "execute_result"
    }
   ],
   "source": [
    "# import libraries\n",
    "from sqlalchemy import create_engine\n",
    "import numpy as np\n",
    "import pandas as pd\n",
    "import re\n",
    "import nltk\n",
    "import seaborn as sns\n",
    "import time\n",
    "\n",
    "from nltk.corpus import stopwords\n",
    "from nltk.tokenize import word_tokenize\n",
    "from nltk.tokenize import sent_tokenize\n",
    "from nltk.stem import WordNetLemmatizer\n",
    "\n",
    "import matplotlib.pyplot as plt\n",
    "%matplotlib inline\n",
    "\n",
    "from sklearn.base import BaseEstimator, TransformerMixin\n",
    "\n",
    "\n",
    "from sklearn.pipeline import Pipeline\n",
    "#TfidfVectorizer = CountVectorizer + TfidfTransformer\n",
    "from sklearn.feature_extraction.text import TfidfVectorizer, CountVectorizer, TfidfTransformer\n",
    "from sklearn.multioutput import MultiOutputClassifier\n",
    "from sklearn.ensemble import RandomForestClassifier\n",
    "from sklearn.linear_model import SGDClassifier\n",
    "from sklearn.model_selection import train_test_split,GridSearchCV\n",
    "from sklearn.metrics import classification_report,accuracy_score\n",
    "import pickle\n",
    "\n",
    "nltk.download('stopwords')\n",
    "nltk.download('wordnet')\n",
    "nltk.download('punkt')"
   ]
  },
  {
   "cell_type": "code",
   "execution_count": 50,
   "metadata": {},
   "outputs": [
    {
     "name": "stderr",
     "output_type": "stream",
     "text": [
      "/opt/anaconda3/lib/python3.7/site-packages/ipykernel_launcher.py:13: SADeprecationWarning: The Engine.table_names() method is deprecated and will be removed in a future release.  Please refer to Inspector.get_table_names(). (deprecated since: 1.4)\n",
      "  del sys.path[0]\n"
     ]
    },
    {
     "data": {
      "text/plain": [
       "['Message', 'data/DisasterResponse.db']"
      ]
     },
     "execution_count": 50,
     "metadata": {},
     "output_type": "execute_result"
    }
   ],
   "source": [
    "# load data from database\n",
    "\n",
    "### \n",
    "# create a database engine \n",
    "# to find the correct file path, use the python os library:\n",
    "# import os\n",
    "# print(os.getcwd())\n",
    "#\n",
    "###\n",
    "\n",
    "engine = create_engine('sqlite:////Users/minyan/Desktop/Python_Project/Data_Courses/DSND_Term2-master/Project3DataPipeline/workspace/data/DisasterResponse.db')\n",
    "#list table names in the database\n",
    "engine.table_names()"
   ]
  },
  {
   "cell_type": "code",
   "execution_count": 51,
   "metadata": {},
   "outputs": [],
   "source": [
    "df=pd.read_sql_table('Message',con=engine)"
   ]
  },
  {
   "cell_type": "code",
   "execution_count": 52,
   "metadata": {},
   "outputs": [
    {
     "data": {
      "text/html": [
       "<div>\n",
       "<style scoped>\n",
       "    .dataframe tbody tr th:only-of-type {\n",
       "        vertical-align: middle;\n",
       "    }\n",
       "\n",
       "    .dataframe tbody tr th {\n",
       "        vertical-align: top;\n",
       "    }\n",
       "\n",
       "    .dataframe thead th {\n",
       "        text-align: right;\n",
       "    }\n",
       "</style>\n",
       "<table border=\"1\" class=\"dataframe\">\n",
       "  <thead>\n",
       "    <tr style=\"text-align: right;\">\n",
       "      <th></th>\n",
       "      <th>index</th>\n",
       "      <th>id</th>\n",
       "      <th>message</th>\n",
       "      <th>original</th>\n",
       "      <th>genre</th>\n",
       "      <th>related</th>\n",
       "      <th>request</th>\n",
       "      <th>offer</th>\n",
       "      <th>aid_related</th>\n",
       "      <th>medical_help</th>\n",
       "      <th>...</th>\n",
       "      <th>aid_centers</th>\n",
       "      <th>other_infrastructure</th>\n",
       "      <th>weather_related</th>\n",
       "      <th>floods</th>\n",
       "      <th>storm</th>\n",
       "      <th>fire</th>\n",
       "      <th>earthquake</th>\n",
       "      <th>cold</th>\n",
       "      <th>other_weather</th>\n",
       "      <th>direct_report</th>\n",
       "    </tr>\n",
       "  </thead>\n",
       "  <tbody>\n",
       "    <tr>\n",
       "      <th>0</th>\n",
       "      <td>0</td>\n",
       "      <td>2</td>\n",
       "      <td>Weather update - a cold front from Cuba that c...</td>\n",
       "      <td>Un front froid se retrouve sur Cuba ce matin. ...</td>\n",
       "      <td>direct</td>\n",
       "      <td>1</td>\n",
       "      <td>0</td>\n",
       "      <td>0</td>\n",
       "      <td>0</td>\n",
       "      <td>0</td>\n",
       "      <td>...</td>\n",
       "      <td>0</td>\n",
       "      <td>0</td>\n",
       "      <td>0</td>\n",
       "      <td>0</td>\n",
       "      <td>0</td>\n",
       "      <td>0</td>\n",
       "      <td>0</td>\n",
       "      <td>0</td>\n",
       "      <td>0</td>\n",
       "      <td>0</td>\n",
       "    </tr>\n",
       "    <tr>\n",
       "      <th>1</th>\n",
       "      <td>1</td>\n",
       "      <td>7</td>\n",
       "      <td>Is the Hurricane over or is it not over</td>\n",
       "      <td>Cyclone nan fini osinon li pa fini</td>\n",
       "      <td>direct</td>\n",
       "      <td>1</td>\n",
       "      <td>0</td>\n",
       "      <td>0</td>\n",
       "      <td>1</td>\n",
       "      <td>0</td>\n",
       "      <td>...</td>\n",
       "      <td>0</td>\n",
       "      <td>0</td>\n",
       "      <td>1</td>\n",
       "      <td>0</td>\n",
       "      <td>1</td>\n",
       "      <td>0</td>\n",
       "      <td>0</td>\n",
       "      <td>0</td>\n",
       "      <td>0</td>\n",
       "      <td>0</td>\n",
       "    </tr>\n",
       "    <tr>\n",
       "      <th>2</th>\n",
       "      <td>2</td>\n",
       "      <td>8</td>\n",
       "      <td>Looking for someone but no name</td>\n",
       "      <td>Patnm, di Maryani relem pou li banm nouvel li ...</td>\n",
       "      <td>direct</td>\n",
       "      <td>1</td>\n",
       "      <td>0</td>\n",
       "      <td>0</td>\n",
       "      <td>0</td>\n",
       "      <td>0</td>\n",
       "      <td>...</td>\n",
       "      <td>0</td>\n",
       "      <td>0</td>\n",
       "      <td>0</td>\n",
       "      <td>0</td>\n",
       "      <td>0</td>\n",
       "      <td>0</td>\n",
       "      <td>0</td>\n",
       "      <td>0</td>\n",
       "      <td>0</td>\n",
       "      <td>0</td>\n",
       "    </tr>\n",
       "    <tr>\n",
       "      <th>3</th>\n",
       "      <td>3</td>\n",
       "      <td>9</td>\n",
       "      <td>UN reports Leogane 80-90 destroyed. Only Hospi...</td>\n",
       "      <td>UN reports Leogane 80-90 destroyed. Only Hospi...</td>\n",
       "      <td>direct</td>\n",
       "      <td>1</td>\n",
       "      <td>1</td>\n",
       "      <td>0</td>\n",
       "      <td>1</td>\n",
       "      <td>0</td>\n",
       "      <td>...</td>\n",
       "      <td>0</td>\n",
       "      <td>0</td>\n",
       "      <td>0</td>\n",
       "      <td>0</td>\n",
       "      <td>0</td>\n",
       "      <td>0</td>\n",
       "      <td>0</td>\n",
       "      <td>0</td>\n",
       "      <td>0</td>\n",
       "      <td>0</td>\n",
       "    </tr>\n",
       "    <tr>\n",
       "      <th>4</th>\n",
       "      <td>4</td>\n",
       "      <td>12</td>\n",
       "      <td>says: west side of Haiti, rest of the country ...</td>\n",
       "      <td>facade ouest d Haiti et le reste du pays aujou...</td>\n",
       "      <td>direct</td>\n",
       "      <td>1</td>\n",
       "      <td>0</td>\n",
       "      <td>0</td>\n",
       "      <td>0</td>\n",
       "      <td>0</td>\n",
       "      <td>...</td>\n",
       "      <td>0</td>\n",
       "      <td>0</td>\n",
       "      <td>0</td>\n",
       "      <td>0</td>\n",
       "      <td>0</td>\n",
       "      <td>0</td>\n",
       "      <td>0</td>\n",
       "      <td>0</td>\n",
       "      <td>0</td>\n",
       "      <td>0</td>\n",
       "    </tr>\n",
       "  </tbody>\n",
       "</table>\n",
       "<p>5 rows × 41 columns</p>\n",
       "</div>"
      ],
      "text/plain": [
       "   index  id                                            message  \\\n",
       "0      0   2  Weather update - a cold front from Cuba that c...   \n",
       "1      1   7            Is the Hurricane over or is it not over   \n",
       "2      2   8                    Looking for someone but no name   \n",
       "3      3   9  UN reports Leogane 80-90 destroyed. Only Hospi...   \n",
       "4      4  12  says: west side of Haiti, rest of the country ...   \n",
       "\n",
       "                                            original   genre  related  \\\n",
       "0  Un front froid se retrouve sur Cuba ce matin. ...  direct        1   \n",
       "1                 Cyclone nan fini osinon li pa fini  direct        1   \n",
       "2  Patnm, di Maryani relem pou li banm nouvel li ...  direct        1   \n",
       "3  UN reports Leogane 80-90 destroyed. Only Hospi...  direct        1   \n",
       "4  facade ouest d Haiti et le reste du pays aujou...  direct        1   \n",
       "\n",
       "   request  offer  aid_related  medical_help  ...  aid_centers  \\\n",
       "0        0      0            0             0  ...            0   \n",
       "1        0      0            1             0  ...            0   \n",
       "2        0      0            0             0  ...            0   \n",
       "3        1      0            1             0  ...            0   \n",
       "4        0      0            0             0  ...            0   \n",
       "\n",
       "   other_infrastructure  weather_related  floods  storm  fire  earthquake  \\\n",
       "0                     0                0       0      0     0           0   \n",
       "1                     0                1       0      1     0           0   \n",
       "2                     0                0       0      0     0           0   \n",
       "3                     0                0       0      0     0           0   \n",
       "4                     0                0       0      0     0           0   \n",
       "\n",
       "   cold  other_weather  direct_report  \n",
       "0     0              0              0  \n",
       "1     0              0              0  \n",
       "2     0              0              0  \n",
       "3     0              0              0  \n",
       "4     0              0              0  \n",
       "\n",
       "[5 rows x 41 columns]"
      ]
     },
     "execution_count": 52,
     "metadata": {},
     "output_type": "execute_result"
    }
   ],
   "source": [
    "df.head()"
   ]
  },
  {
   "cell_type": "code",
   "execution_count": 53,
   "metadata": {},
   "outputs": [
    {
     "data": {
      "text/plain": [
       "(26216, 41)"
      ]
     },
     "execution_count": 53,
     "metadata": {},
     "output_type": "execute_result"
    }
   ],
   "source": [
    "df.shape"
   ]
  },
  {
   "cell_type": "code",
   "execution_count": 54,
   "metadata": {},
   "outputs": [
    {
     "data": {
      "text/plain": [
       "'I am in Croix-des-Bouquets. We have health issues. They ( workers ) are in Santo 15. ( an area in Croix-des-Bouquets )'"
      ]
     },
     "execution_count": 54,
     "metadata": {},
     "output_type": "execute_result"
    }
   ],
   "source": [
    "X=df['message']\n",
    "Y = df.iloc[ : , -36:]\n",
    "category_name = Y.columns\n",
    "X[9]"
   ]
  },
  {
   "cell_type": "code",
   "execution_count": 55,
   "metadata": {},
   "outputs": [
    {
     "data": {
      "text/plain": [
       "related                   int64\n",
       "request                   int64\n",
       "offer                     int64\n",
       "aid_related               int64\n",
       "medical_help              int64\n",
       "medical_products          int64\n",
       "search_and_rescue         int64\n",
       "security                  int64\n",
       "military                  int64\n",
       "child_alone               int64\n",
       "water                     int64\n",
       "food                      int64\n",
       "shelter                   int64\n",
       "clothing                  int64\n",
       "money                     int64\n",
       "missing_people            int64\n",
       "refugees                  int64\n",
       "death                     int64\n",
       "other_aid                 int64\n",
       "infrastructure_related    int64\n",
       "transport                 int64\n",
       "buildings                 int64\n",
       "electricity               int64\n",
       "tools                     int64\n",
       "hospitals                 int64\n",
       "shops                     int64\n",
       "aid_centers               int64\n",
       "other_infrastructure      int64\n",
       "weather_related           int64\n",
       "floods                    int64\n",
       "storm                     int64\n",
       "fire                      int64\n",
       "earthquake                int64\n",
       "cold                      int64\n",
       "other_weather             int64\n",
       "direct_report             int64\n",
       "dtype: object"
      ]
     },
     "execution_count": 55,
     "metadata": {},
     "output_type": "execute_result"
    }
   ],
   "source": [
    "Y.dtypes"
   ]
  },
  {
   "cell_type": "code",
   "execution_count": 56,
   "metadata": {},
   "outputs": [
    {
     "name": "stdout",
     "output_type": "stream",
     "text": [
      "related[1 0 2]\n",
      "request[0 1]\n",
      "offer[0 1]\n",
      "aid_related[0 1]\n",
      "medical_help[0 1]\n",
      "medical_products[0 1]\n",
      "search_and_rescue[0 1]\n",
      "security[0 1]\n",
      "military[0 1]\n",
      "child_alone[0]\n",
      "water[0 1]\n",
      "food[0 1]\n",
      "shelter[0 1]\n",
      "clothing[0 1]\n",
      "money[0 1]\n",
      "missing_people[0 1]\n",
      "refugees[0 1]\n",
      "death[0 1]\n",
      "other_aid[0 1]\n",
      "infrastructure_related[0 1]\n",
      "transport[0 1]\n",
      "buildings[0 1]\n",
      "electricity[0 1]\n",
      "tools[0 1]\n",
      "hospitals[0 1]\n",
      "shops[0 1]\n",
      "aid_centers[0 1]\n",
      "other_infrastructure[0 1]\n",
      "weather_related[0 1]\n",
      "floods[0 1]\n",
      "storm[0 1]\n",
      "fire[0 1]\n",
      "earthquake[0 1]\n",
      "cold[0 1]\n",
      "other_weather[0 1]\n",
      "direct_report[0 1]\n"
     ]
    }
   ],
   "source": [
    "for col in category_name:\n",
    "    print(f'{df[col].name}{df[col].unique()}')"
   ]
  },
  {
   "cell_type": "code",
   "execution_count": 57,
   "metadata": {},
   "outputs": [],
   "source": [
    "Y = Y.drop(['related','child_alone'],axis=1)\n"
   ]
  },
  {
   "cell_type": "code",
   "execution_count": 58,
   "metadata": {},
   "outputs": [],
   "source": [
    "category_name = Y.columns"
   ]
  },
  {
   "cell_type": "code",
   "execution_count": 59,
   "metadata": {},
   "outputs": [
    {
     "data": {
      "text/plain": [
       "Text(0.5, 1.0, 'Distribution of Disaster Response Type')"
      ]
     },
     "execution_count": 59,
     "metadata": {},
     "output_type": "execute_result"
    },
    {
     "data": {
      "image/png": "[encoded data removed]",
      "text/plain": [
       "<Figure size 1296x1080 with 1 Axes>"
      ]
     },
     "metadata": {
      "needs_background": "light"
     },
     "output_type": "display_data"
    }
   ],
   "source": [
    "#a quick look of disaster response cetegory plot\n",
    "plt.figure(figsize=(18,15))\n",
    "Y.sum().sort_values(ascending=False).plot(kind='bar')\n",
    "plt.title(\"Distribution of Disaster Response Type\")"
   ]
  },
  {
   "cell_type": "markdown",
   "metadata": {},
   "source": [
    "### 2. Write a tokenization function to process your text data"
   ]
  },
  {
   "cell_type": "code",
   "execution_count": 60,
   "metadata": {},
   "outputs": [],
   "source": [
    "def p_tokenize(text):\n",
    "    '''\n",
    "    INPUT:\n",
    "        text:raw message\n",
    "    OUTPUT:\n",
    "        X:tokenized words\n",
    "    DESCRIPTION:\n",
    "        The dunction is to process the scentence, normalize texts, tokenize texts.\n",
    "        Convert all cases to lower cases, remove extra space,stop words, and \n",
    "        reduce words to their root form.\n",
    "    '''\n",
    "    clean_tokens=[]    \n",
    "    #remove punctuation,normalize case to lower cases, and remove extra space\n",
    "    text = re.sub(r\"[^a-zA-Z0-9]\",\" \",text.lower()).strip()\n",
    "    \n",
    "    #tokenize text\n",
    "    tokens=word_tokenize(text)\n",
    "    \n",
    "    \n",
    "    for w in tokens:  \n",
    "        #remove stop words\n",
    "        if w not in stopwords.words(\"english\"):\n",
    "        #lemmatization\n",
    "        #reduce words to their root form\n",
    "            lemmed = WordNetLemmatizer().lemmatize(w)\n",
    "            clean_tokens.append(lemmed)\n",
    "    return clean_tokens"
   ]
  },
  {
   "cell_type": "markdown",
   "metadata": {},
   "source": [
    "### 3. Build a machine learning pipeline\n",
    "This machine pipeline should take in the `message` column as input and output classification results on the other 36 categories in the dataset. You may find the [MultiOutputClassifier](http://scikit-learn.org/stable/modules/generated/sklearn.multioutput.MultiOutputClassifier.html) helpful for predicting multiple target variables."
   ]
  },
  {
   "cell_type": "code",
   "execution_count": 74,
   "metadata": {},
   "outputs": [],
   "source": [
    "pipeline = Pipeline([\n",
    "        ('tfidvectorizer', TfidfVectorizer(tokenizer=p_tokenize)),#override the tokenizer with customized one\n",
    "        ('clf', MultiOutputClassifier(SGDClassifier(n_jobs = -1,random_state=6)))])"
   ]
  },
  {
   "cell_type": "markdown",
   "metadata": {},
   "source": [
    "### 4. Train pipeline\n",
    "- Split data into train and test sets\n",
    "- Train pipeline"
   ]
  },
  {
   "cell_type": "code",
   "execution_count": 75,
   "metadata": {},
   "outputs": [],
   "source": [
    "X_train, X_test, Y_train, Y_test = train_test_split(X,Y,test_size=0.2,random_state=6)"
   ]
  },
  {
   "cell_type": "code",
   "execution_count": 76,
   "metadata": {},
   "outputs": [
    {
     "data": {
      "text/plain": [
       "794      was. Please Help me! ( end of last message I t...\n",
       "24856    With respect to the security challenges, the r...\n",
       "7333     Is it a good thing when someone uses insectici...\n",
       "12058    RT andatopaz: Se o pessoal de SANTA CRUZ for t...\n",
       "18284    WFP 43,053 MT of Food Assistance (soy fortifie...\n",
       "                               ...                        \n",
       "8527     when they will restart with the identification...\n",
       "4714     WHERE CAN I HAVE MY PASSPORT MADE ? I NEVER HA...\n",
       "10196    Haiti And Earthquake Disaster! Watch Haiti and...\n",
       "8419     reactions. -3-Contractille it is the property ...\n",
       "19145    Such optimism is premature, given the HCUA con...\n",
       "Name: message, Length: 20972, dtype: object"
      ]
     },
     "execution_count": 76,
     "metadata": {},
     "output_type": "execute_result"
    }
   ],
   "source": [
    "X_train"
   ]
  },
  {
   "cell_type": "code",
   "execution_count": 77,
   "metadata": {},
   "outputs": [
    {
     "data": {
      "text/plain": [
       "Pipeline(steps=[('tfidvectorizer',\n",
       "                 TfidfVectorizer(tokenizer=<function p_tokenize at 0x7f891758e200>)),\n",
       "                ('clf',\n",
       "                 MultiOutputClassifier(estimator=SGDClassifier(n_jobs=-1,\n",
       "                                                               random_state=6)))])"
      ]
     },
     "execution_count": 77,
     "metadata": {},
     "output_type": "execute_result"
    }
   ],
   "source": [
    "pipeline.fit(X_train, Y_train)"
   ]
  },
  {
   "cell_type": "markdown",
   "metadata": {},
   "source": [
    "### 5. Test your model\n",
    "Report the f1 score, precision and recall for each output category of the dataset. You can do this by iterating through the columns and calling sklearn's `classification_report` on each."
   ]
  },
  {
   "cell_type": "code",
   "execution_count": 78,
   "metadata": {},
   "outputs": [
    {
     "name": "stdout",
     "output_type": "stream",
     "text": [
      "[[0 0 0 ... 0 0 0]\n",
      " [0 0 0 ... 0 0 0]\n",
      " [0 0 0 ... 0 0 0]\n",
      " ...\n",
      " [0 0 0 ... 0 0 0]\n",
      " [0 0 1 ... 0 0 0]\n",
      " [1 0 1 ... 0 0 1]]\n"
     ]
    }
   ],
   "source": [
    "Y_test_pred=pipeline.predict(X_test)\n",
    "print(Y_test_pred)"
   ]
  },
  {
   "cell_type": "code",
   "execution_count": 79,
   "metadata": {},
   "outputs": [],
   "source": [
    "Y_test_pred = pd.DataFrame(data=Y_test_pred, \n",
    "                          index=Y_test.index, \n",
    "                          columns=category_name)"
   ]
  },
  {
   "cell_type": "code",
   "execution_count": 80,
   "metadata": {},
   "outputs": [
    {
     "data": {
      "text/plain": [
       "34"
      ]
     },
     "execution_count": 80,
     "metadata": {},
     "output_type": "execute_result"
    }
   ],
   "source": [
    "len(category_name)"
   ]
  },
  {
   "cell_type": "code",
   "execution_count": 81,
   "metadata": {},
   "outputs": [
    {
     "name": "stdout",
     "output_type": "stream",
     "text": [
      "                        precision    recall  f1-score   support\n",
      "\n",
      "               request       0.77      0.53      0.63       848\n",
      "                 offer       0.00      0.00      0.00        28\n",
      "           aid_related       0.77      0.68      0.72      2159\n",
      "          medical_help       0.68      0.15      0.24       402\n",
      "      medical_products       0.75      0.23      0.36       248\n",
      "     search_and_rescue       0.67      0.08      0.14       156\n",
      "              security       0.00      0.00      0.00        96\n",
      "              military       0.72      0.12      0.21       169\n",
      "                 water       0.76      0.59      0.66       313\n",
      "                  food       0.78      0.71      0.74       571\n",
      "               shelter       0.83      0.52      0.64       466\n",
      "              clothing       0.72      0.42      0.54        80\n",
      "                 money       1.00      0.02      0.05       126\n",
      "        missing_people       1.00      0.01      0.03        67\n",
      "              refugees       0.63      0.14      0.22       162\n",
      "                 death       0.80      0.41      0.54       259\n",
      "             other_aid       0.57      0.02      0.04       645\n",
      "infrastructure_related       0.00      0.00      0.00       322\n",
      "             transport       0.71      0.10      0.18       250\n",
      "             buildings       0.72      0.21      0.33       264\n",
      "           electricity       0.82      0.11      0.19       127\n",
      "                 tools       0.00      0.00      0.00        36\n",
      "             hospitals       0.00      0.00      0.00        48\n",
      "                 shops       0.00      0.00      0.00        25\n",
      "           aid_centers       0.00      0.00      0.00        55\n",
      "  other_infrastructure       0.00      0.00      0.00       211\n",
      "       weather_related       0.88      0.70      0.78      1504\n",
      "                floods       0.92      0.50      0.65       454\n",
      "                 storm       0.81      0.61      0.69       524\n",
      "                  fire       1.00      0.07      0.13        58\n",
      "            earthquake       0.89      0.78      0.83       502\n",
      "                  cold       0.83      0.16      0.27       123\n",
      "         other_weather       0.75      0.03      0.06       275\n",
      "         direct_report       0.76      0.39      0.52      1006\n",
      "\n",
      "             micro avg       0.80      0.44      0.57     12579\n",
      "             macro avg       0.60      0.24      0.31     12579\n",
      "          weighted avg       0.73      0.44      0.52     12579\n",
      "           samples avg       0.42      0.27      0.31     12579\n",
      "\n"
     ]
    },
    {
     "name": "stderr",
     "output_type": "stream",
     "text": [
      "/opt/anaconda3/lib/python3.7/site-packages/sklearn/metrics/_classification.py:1248: UndefinedMetricWarning: Precision and F-score are ill-defined and being set to 0.0 in labels with no predicted samples. Use `zero_division` parameter to control this behavior.\n",
      "  _warn_prf(average, modifier, msg_start, len(result))\n",
      "/opt/anaconda3/lib/python3.7/site-packages/sklearn/metrics/_classification.py:1248: UndefinedMetricWarning: Precision and F-score are ill-defined and being set to 0.0 in samples with no predicted labels. Use `zero_division` parameter to control this behavior.\n",
      "  _warn_prf(average, modifier, msg_start, len(result))\n",
      "/opt/anaconda3/lib/python3.7/site-packages/sklearn/metrics/_classification.py:1248: UndefinedMetricWarning: Recall and F-score are ill-defined and being set to 0.0 in samples with no true labels. Use `zero_division` parameter to control this behavior.\n",
      "  _warn_prf(average, modifier, msg_start, len(result))\n"
     ]
    }
   ],
   "source": [
    "# from sklearn.metrics import classification_report\n",
    "print(classification_report(Y_test, Y_test_pred,target_names=category_name))"
   ]
  },
  {
   "cell_type": "code",
   "execution_count": 82,
   "metadata": {},
   "outputs": [
    {
     "name": "stdout",
     "output_type": "stream",
     "text": [
      "0.43039664378337145\n"
     ]
    }
   ],
   "source": [
    "print(accuracy_score(Y_test, Y_test_pred))"
   ]
  },
  {
   "cell_type": "markdown",
   "metadata": {},
   "source": [
    "### 6. Improve your model\n",
    "Use grid search to find better parameters. "
   ]
  },
  {
   "cell_type": "code",
   "execution_count": 83,
   "metadata": {},
   "outputs": [
    {
     "data": {
      "text/plain": [
       "{'memory': None,\n",
       " 'steps': [('tfidvectorizer',\n",
       "   TfidfVectorizer(tokenizer=<function p_tokenize at 0x7f891758e200>)),\n",
       "  ('clf',\n",
       "   MultiOutputClassifier(estimator=SGDClassifier(n_jobs=-1, random_state=6)))],\n",
       " 'verbose': False,\n",
       " 'tfidvectorizer': TfidfVectorizer(tokenizer=<function p_tokenize at 0x7f891758e200>),\n",
       " 'clf': MultiOutputClassifier(estimator=SGDClassifier(n_jobs=-1, random_state=6)),\n",
       " 'tfidvectorizer__analyzer': 'word',\n",
       " 'tfidvectorizer__binary': False,\n",
       " 'tfidvectorizer__decode_error': 'strict',\n",
       " 'tfidvectorizer__dtype': numpy.float64,\n",
       " 'tfidvectorizer__encoding': 'utf-8',\n",
       " 'tfidvectorizer__input': 'content',\n",
       " 'tfidvectorizer__lowercase': True,\n",
       " 'tfidvectorizer__max_df': 1.0,\n",
       " 'tfidvectorizer__max_features': None,\n",
       " 'tfidvectorizer__min_df': 1,\n",
       " 'tfidvectorizer__ngram_range': (1, 1),\n",
       " 'tfidvectorizer__norm': 'l2',\n",
       " 'tfidvectorizer__preprocessor': None,\n",
       " 'tfidvectorizer__smooth_idf': True,\n",
       " 'tfidvectorizer__stop_words': None,\n",
       " 'tfidvectorizer__strip_accents': None,\n",
       " 'tfidvectorizer__sublinear_tf': False,\n",
       " 'tfidvectorizer__token_pattern': '(?u)\\\\b\\\\w\\\\w+\\\\b',\n",
       " 'tfidvectorizer__tokenizer': <function __main__.p_tokenize(text)>,\n",
       " 'tfidvectorizer__use_idf': True,\n",
       " 'tfidvectorizer__vocabulary': None,\n",
       " 'clf__estimator__alpha': 0.0001,\n",
       " 'clf__estimator__average': False,\n",
       " 'clf__estimator__class_weight': None,\n",
       " 'clf__estimator__early_stopping': False,\n",
       " 'clf__estimator__epsilon': 0.1,\n",
       " 'clf__estimator__eta0': 0.0,\n",
       " 'clf__estimator__fit_intercept': True,\n",
       " 'clf__estimator__l1_ratio': 0.15,\n",
       " 'clf__estimator__learning_rate': 'optimal',\n",
       " 'clf__estimator__loss': 'hinge',\n",
       " 'clf__estimator__max_iter': 1000,\n",
       " 'clf__estimator__n_iter_no_change': 5,\n",
       " 'clf__estimator__n_jobs': -1,\n",
       " 'clf__estimator__penalty': 'l2',\n",
       " 'clf__estimator__power_t': 0.5,\n",
       " 'clf__estimator__random_state': 6,\n",
       " 'clf__estimator__shuffle': True,\n",
       " 'clf__estimator__tol': 0.001,\n",
       " 'clf__estimator__validation_fraction': 0.1,\n",
       " 'clf__estimator__verbose': 0,\n",
       " 'clf__estimator__warm_start': False,\n",
       " 'clf__estimator': SGDClassifier(n_jobs=-1, random_state=6),\n",
       " 'clf__n_jobs': None}"
      ]
     },
     "execution_count": 83,
     "metadata": {},
     "output_type": "execute_result"
    }
   ],
   "source": [
    "pipeline.get_params()"
   ]
  },
  {
   "cell_type": "code",
   "execution_count": 84,
   "metadata": {},
   "outputs": [],
   "source": [
    "parameters = {\n",
    "        'clf__estimator__alpha': [0.0001,0.001],\n",
    "        'clf__estimator__penalty':['l2'],\n",
    "        'clf__estimator__loss':['hinge']\n",
    "    }\n",
    "\n",
    "cv = GridSearchCV(pipeline,parameters,cv=3)"
   ]
  },
  {
   "cell_type": "markdown",
   "metadata": {},
   "source": [
    "### 7. Test your model\n",
    "Show the accuracy, precision, and recall of the tuned model.  \n",
    "\n",
    "Since this project focuses on code quality, process, and  pipelines, there is no minimum performance metric needed to pass. However, make sure to fine tune your models for accuracy, precision and recall to make your project stand out - especially for your portfolio!"
   ]
  },
  {
   "cell_type": "code",
   "execution_count": 85,
   "metadata": {},
   "outputs": [
    {
     "data": {
      "text/plain": [
       "GridSearchCV(cv=3,\n",
       "             estimator=Pipeline(steps=[('tfidvectorizer',\n",
       "                                        TfidfVectorizer(tokenizer=<function p_tokenize at 0x7f891758e200>)),\n",
       "                                       ('clf',\n",
       "                                        MultiOutputClassifier(estimator=SGDClassifier(n_jobs=-1,\n",
       "                                                                                      random_state=6)))]),\n",
       "             param_grid={'clf__estimator__alpha': [0.0001, 0.001],\n",
       "                         'clf__estimator__loss': ['hinge'],\n",
       "                         'clf__estimator__penalty': ['l2']})"
      ]
     },
     "execution_count": 85,
     "metadata": {},
     "output_type": "execute_result"
    }
   ],
   "source": [
    "cv.fit(X_train, Y_train)"
   ]
  },
  {
   "cell_type": "code",
   "execution_count": 86,
   "metadata": {},
   "outputs": [
    {
     "data": {
      "text/plain": [
       "0.43019207814502564"
      ]
     },
     "execution_count": 86,
     "metadata": {},
     "output_type": "execute_result"
    }
   ],
   "source": [
    "cv.best_score_"
   ]
  },
  {
   "cell_type": "code",
   "execution_count": 87,
   "metadata": {},
   "outputs": [
    {
     "data": {
      "text/plain": [
       "{'clf__estimator__alpha': 0.001,\n",
       " 'clf__estimator__loss': 'hinge',\n",
       " 'clf__estimator__penalty': 'l2'}"
      ]
     },
     "execution_count": 87,
     "metadata": {},
     "output_type": "execute_result"
    }
   ],
   "source": [
    "cv.best_params_"
   ]
  },
  {
   "cell_type": "code",
   "execution_count": 88,
   "metadata": {},
   "outputs": [
    {
     "name": "stdout",
     "output_type": "stream",
     "text": [
      "                        precision    recall  f1-score   support\n",
      "\n",
      "               request       0.77      0.53      0.63       848\n",
      "                 offer       0.00      0.00      0.00        28\n",
      "           aid_related       0.77      0.68      0.72      2159\n",
      "          medical_help       0.68      0.15      0.24       402\n",
      "      medical_products       0.75      0.23      0.36       248\n",
      "     search_and_rescue       0.67      0.08      0.14       156\n",
      "              security       0.00      0.00      0.00        96\n",
      "              military       0.72      0.12      0.21       169\n",
      "                 water       0.76      0.59      0.66       313\n",
      "                  food       0.78      0.71      0.74       571\n",
      "               shelter       0.83      0.52      0.64       466\n",
      "              clothing       0.72      0.42      0.54        80\n",
      "                 money       1.00      0.02      0.05       126\n",
      "        missing_people       1.00      0.01      0.03        67\n",
      "              refugees       0.63      0.14      0.22       162\n",
      "                 death       0.80      0.41      0.54       259\n",
      "             other_aid       0.57      0.02      0.04       645\n",
      "infrastructure_related       0.00      0.00      0.00       322\n",
      "             transport       0.71      0.10      0.18       250\n",
      "             buildings       0.72      0.21      0.33       264\n",
      "           electricity       0.82      0.11      0.19       127\n",
      "                 tools       0.00      0.00      0.00        36\n",
      "             hospitals       0.00      0.00      0.00        48\n",
      "                 shops       0.00      0.00      0.00        25\n",
      "           aid_centers       0.00      0.00      0.00        55\n",
      "  other_infrastructure       0.00      0.00      0.00       211\n",
      "       weather_related       0.88      0.70      0.78      1504\n",
      "                floods       0.92      0.50      0.65       454\n",
      "                 storm       0.81      0.61      0.69       524\n",
      "                  fire       1.00      0.07      0.13        58\n",
      "            earthquake       0.89      0.78      0.83       502\n",
      "                  cold       0.83      0.16      0.27       123\n",
      "         other_weather       0.75      0.03      0.06       275\n",
      "         direct_report       0.76      0.39      0.52      1006\n",
      "\n",
      "             micro avg       0.80      0.44      0.57     12579\n",
      "             macro avg       0.60      0.24      0.31     12579\n",
      "          weighted avg       0.73      0.44      0.52     12579\n",
      "           samples avg       0.42      0.27      0.31     12579\n",
      "\n",
      "0.43039664378337145\n"
     ]
    },
    {
     "name": "stderr",
     "output_type": "stream",
     "text": [
      "/opt/anaconda3/lib/python3.7/site-packages/sklearn/metrics/_classification.py:1248: UndefinedMetricWarning: Precision and F-score are ill-defined and being set to 0.0 in labels with no predicted samples. Use `zero_division` parameter to control this behavior.\n",
      "  _warn_prf(average, modifier, msg_start, len(result))\n",
      "/opt/anaconda3/lib/python3.7/site-packages/sklearn/metrics/_classification.py:1248: UndefinedMetricWarning: Precision and F-score are ill-defined and being set to 0.0 in samples with no predicted labels. Use `zero_division` parameter to control this behavior.\n",
      "  _warn_prf(average, modifier, msg_start, len(result))\n",
      "/opt/anaconda3/lib/python3.7/site-packages/sklearn/metrics/_classification.py:1248: UndefinedMetricWarning: Recall and F-score are ill-defined and being set to 0.0 in samples with no true labels. Use `zero_division` parameter to control this behavior.\n",
      "  _warn_prf(average, modifier, msg_start, len(result))\n"
     ]
    }
   ],
   "source": [
    "print(classification_report(Y_test, Y_test_pred,target_names=category_name))\n",
    "print(accuracy_score(Y_test, Y_test_pred))"
   ]
  },
  {
   "cell_type": "markdown",
   "metadata": {},
   "source": [
    "### 8. Try improving your model further. Here are a few ideas:\n",
    "* try other machine learning algorithms\n",
    "* add other features besides the TF-IDF"
   ]
  },
  {
   "cell_type": "code",
   "execution_count": 61,
   "metadata": {},
   "outputs": [],
   "source": [
    "pipeline = Pipeline([\n",
    "        ('vectorizer', CountVectorizer(tokenizer=p_tokenize)),#override the tokenizer with customized one\n",
    "        ('tfidf', TfidfTransformer()),\n",
    "         ('clf', MultiOutputClassifier(RandomForestClassifier(n_jobs=-1,random_state=6)))])"
   ]
  },
  {
   "cell_type": "code",
   "execution_count": 62,
   "metadata": {},
   "outputs": [],
   "source": [
    "pipeline.fit(X_train, Y_train)\n",
    "Y_test_pred=pipeline.predict(X_test)\n",
    "\n",
    "Y_test_pred = pd.DataFrame(data=Y_test_pred, \n",
    "                          index=Y_test.index, \n",
    "                          columns=category_name)"
   ]
  },
  {
   "cell_type": "code",
   "execution_count": 63,
   "metadata": {},
   "outputs": [
    {
     "data": {
      "text/plain": [
       "{'memory': None,\n",
       " 'steps': [('vectorizer',\n",
       "   CountVectorizer(tokenizer=<function p_tokenize at 0x7f891758e200>)),\n",
       "  ('tfidf', TfidfTransformer()),\n",
       "  ('clf',\n",
       "   MultiOutputClassifier(estimator=RandomForestClassifier(n_jobs=-1,\n",
       "                                                          random_state=6)))],\n",
       " 'verbose': False,\n",
       " 'vectorizer': CountVectorizer(tokenizer=<function p_tokenize at 0x7f891758e200>),\n",
       " 'tfidf': TfidfTransformer(),\n",
       " 'clf': MultiOutputClassifier(estimator=RandomForestClassifier(n_jobs=-1,\n",
       "                                                        random_state=6)),\n",
       " 'vectorizer__analyzer': 'word',\n",
       " 'vectorizer__binary': False,\n",
       " 'vectorizer__decode_error': 'strict',\n",
       " 'vectorizer__dtype': numpy.int64,\n",
       " 'vectorizer__encoding': 'utf-8',\n",
       " 'vectorizer__input': 'content',\n",
       " 'vectorizer__lowercase': True,\n",
       " 'vectorizer__max_df': 1.0,\n",
       " 'vectorizer__max_features': None,\n",
       " 'vectorizer__min_df': 1,\n",
       " 'vectorizer__ngram_range': (1, 1),\n",
       " 'vectorizer__preprocessor': None,\n",
       " 'vectorizer__stop_words': None,\n",
       " 'vectorizer__strip_accents': None,\n",
       " 'vectorizer__token_pattern': '(?u)\\\\b\\\\w\\\\w+\\\\b',\n",
       " 'vectorizer__tokenizer': <function __main__.p_tokenize(text)>,\n",
       " 'vectorizer__vocabulary': None,\n",
       " 'tfidf__norm': 'l2',\n",
       " 'tfidf__smooth_idf': True,\n",
       " 'tfidf__sublinear_tf': False,\n",
       " 'tfidf__use_idf': True,\n",
       " 'clf__estimator__bootstrap': True,\n",
       " 'clf__estimator__ccp_alpha': 0.0,\n",
       " 'clf__estimator__class_weight': None,\n",
       " 'clf__estimator__criterion': 'gini',\n",
       " 'clf__estimator__max_depth': None,\n",
       " 'clf__estimator__max_features': 'auto',\n",
       " 'clf__estimator__max_leaf_nodes': None,\n",
       " 'clf__estimator__max_samples': None,\n",
       " 'clf__estimator__min_impurity_decrease': 0.0,\n",
       " 'clf__estimator__min_impurity_split': None,\n",
       " 'clf__estimator__min_samples_leaf': 1,\n",
       " 'clf__estimator__min_samples_split': 2,\n",
       " 'clf__estimator__min_weight_fraction_leaf': 0.0,\n",
       " 'clf__estimator__n_estimators': 100,\n",
       " 'clf__estimator__n_jobs': -1,\n",
       " 'clf__estimator__oob_score': False,\n",
       " 'clf__estimator__random_state': 6,\n",
       " 'clf__estimator__verbose': 0,\n",
       " 'clf__estimator__warm_start': False,\n",
       " 'clf__estimator': RandomForestClassifier(n_jobs=-1, random_state=6),\n",
       " 'clf__n_jobs': None}"
      ]
     },
     "execution_count": 63,
     "metadata": {},
     "output_type": "execute_result"
    }
   ],
   "source": [
    "pipeline.get_params()"
   ]
  },
  {
   "cell_type": "code",
   "execution_count": 64,
   "metadata": {},
   "outputs": [],
   "source": [
    "parameters = {\n",
    "        #'vectorizer__ngram__range':((1,1),(1,2)),#the range for a string of n words\n",
    "        #'tfidf__smooth__idf':(True,False),\n",
    "        'clf__estimator__n_estimators':[10,50,100,150]\n",
    "        #'clf__estimator_criterion':['gini','entropy']\n",
    "    }"
   ]
  },
  {
   "cell_type": "code",
   "execution_count": 65,
   "metadata": {},
   "outputs": [],
   "source": [
    "cv = GridSearchCV(pipeline,parameters,cv=3)"
   ]
  },
  {
   "cell_type": "code",
   "execution_count": 66,
   "metadata": {},
   "outputs": [],
   "source": [
    "start=time.time()\n",
    "cv.fit(X_train, Y_train)\n",
    "end=time.time()"
   ]
  },
  {
   "cell_type": "code",
   "execution_count": 67,
   "metadata": {},
   "outputs": [
    {
     "name": "stdout",
     "output_type": "stream",
     "text": [
      "3053.7893290519714\n"
     ]
    }
   ],
   "source": [
    "process=end-start\n",
    "print(process)"
   ]
  },
  {
   "cell_type": "code",
   "execution_count": 68,
   "metadata": {},
   "outputs": [
    {
     "data": {
      "text/plain": [
       "0.41035630182467037"
      ]
     },
     "execution_count": 68,
     "metadata": {},
     "output_type": "execute_result"
    }
   ],
   "source": [
    "cv.best_score_"
   ]
  },
  {
   "cell_type": "code",
   "execution_count": 69,
   "metadata": {},
   "outputs": [
    {
     "data": {
      "text/plain": [
       "{'cv': 3,\n",
       " 'error_score': nan,\n",
       " 'estimator__memory': None,\n",
       " 'estimator__steps': [('vectorizer',\n",
       "   CountVectorizer(tokenizer=<function p_tokenize at 0x7f891758e200>)),\n",
       "  ('tfidf', TfidfTransformer()),\n",
       "  ('clf',\n",
       "   MultiOutputClassifier(estimator=RandomForestClassifier(n_jobs=-1,\n",
       "                                                          random_state=6)))],\n",
       " 'estimator__verbose': False,\n",
       " 'estimator__vectorizer': CountVectorizer(tokenizer=<function p_tokenize at 0x7f891758e200>),\n",
       " 'estimator__tfidf': TfidfTransformer(),\n",
       " 'estimator__clf': MultiOutputClassifier(estimator=RandomForestClassifier(n_jobs=-1,\n",
       "                                                        random_state=6)),\n",
       " 'estimator__vectorizer__analyzer': 'word',\n",
       " 'estimator__vectorizer__binary': False,\n",
       " 'estimator__vectorizer__decode_error': 'strict',\n",
       " 'estimator__vectorizer__dtype': numpy.int64,\n",
       " 'estimator__vectorizer__encoding': 'utf-8',\n",
       " 'estimator__vectorizer__input': 'content',\n",
       " 'estimator__vectorizer__lowercase': True,\n",
       " 'estimator__vectorizer__max_df': 1.0,\n",
       " 'estimator__vectorizer__max_features': None,\n",
       " 'estimator__vectorizer__min_df': 1,\n",
       " 'estimator__vectorizer__ngram_range': (1, 1),\n",
       " 'estimator__vectorizer__preprocessor': None,\n",
       " 'estimator__vectorizer__stop_words': None,\n",
       " 'estimator__vectorizer__strip_accents': None,\n",
       " 'estimator__vectorizer__token_pattern': '(?u)\\\\b\\\\w\\\\w+\\\\b',\n",
       " 'estimator__vectorizer__tokenizer': <function __main__.p_tokenize(text)>,\n",
       " 'estimator__vectorizer__vocabulary': None,\n",
       " 'estimator__tfidf__norm': 'l2',\n",
       " 'estimator__tfidf__smooth_idf': True,\n",
       " 'estimator__tfidf__sublinear_tf': False,\n",
       " 'estimator__tfidf__use_idf': True,\n",
       " 'estimator__clf__estimator__bootstrap': True,\n",
       " 'estimator__clf__estimator__ccp_alpha': 0.0,\n",
       " 'estimator__clf__estimator__class_weight': None,\n",
       " 'estimator__clf__estimator__criterion': 'gini',\n",
       " 'estimator__clf__estimator__max_depth': None,\n",
       " 'estimator__clf__estimator__max_features': 'auto',\n",
       " 'estimator__clf__estimator__max_leaf_nodes': None,\n",
       " 'estimator__clf__estimator__max_samples': None,\n",
       " 'estimator__clf__estimator__min_impurity_decrease': 0.0,\n",
       " 'estimator__clf__estimator__min_impurity_split': None,\n",
       " 'estimator__clf__estimator__min_samples_leaf': 1,\n",
       " 'estimator__clf__estimator__min_samples_split': 2,\n",
       " 'estimator__clf__estimator__min_weight_fraction_leaf': 0.0,\n",
       " 'estimator__clf__estimator__n_estimators': 100,\n",
       " 'estimator__clf__estimator__n_jobs': -1,\n",
       " 'estimator__clf__estimator__oob_score': False,\n",
       " 'estimator__clf__estimator__random_state': 6,\n",
       " 'estimator__clf__estimator__verbose': 0,\n",
       " 'estimator__clf__estimator__warm_start': False,\n",
       " 'estimator__clf__estimator': RandomForestClassifier(n_jobs=-1, random_state=6),\n",
       " 'estimator__clf__n_jobs': None,\n",
       " 'estimator': Pipeline(steps=[('vectorizer',\n",
       "                  CountVectorizer(tokenizer=<function p_tokenize at 0x7f891758e200>)),\n",
       "                 ('tfidf', TfidfTransformer()),\n",
       "                 ('clf',\n",
       "                  MultiOutputClassifier(estimator=RandomForestClassifier(n_jobs=-1,\n",
       "                                                                         random_state=6)))]),\n",
       " 'n_jobs': None,\n",
       " 'param_grid': {'clf__estimator__n_estimators': [10, 50, 100, 150]},\n",
       " 'pre_dispatch': '2*n_jobs',\n",
       " 'refit': True,\n",
       " 'return_train_score': False,\n",
       " 'scoring': None,\n",
       " 'verbose': 0}"
      ]
     },
     "execution_count": 69,
     "metadata": {},
     "output_type": "execute_result"
    }
   ],
   "source": [
    "cv.get_params()"
   ]
  },
  {
   "cell_type": "code",
   "execution_count": 70,
   "metadata": {},
   "outputs": [],
   "source": [
    "#get the evaluation on the test dataset\n",
    "Y_test_pred=cv.predict(X_test)"
   ]
  },
  {
   "cell_type": "code",
   "execution_count": 71,
   "metadata": {},
   "outputs": [],
   "source": [
    "Y_test_pred = pd.DataFrame(data=Y_test_pred, \n",
    "                          index=Y_test.index, \n",
    "                          columns=category_name)"
   ]
  },
  {
   "cell_type": "code",
   "execution_count": 72,
   "metadata": {},
   "outputs": [
    {
     "data": {
      "text/html": [
       "<div>\n",
       "<style scoped>\n",
       "    .dataframe tbody tr th:only-of-type {\n",
       "        vertical-align: middle;\n",
       "    }\n",
       "\n",
       "    .dataframe tbody tr th {\n",
       "        vertical-align: top;\n",
       "    }\n",
       "\n",
       "    .dataframe thead th {\n",
       "        text-align: right;\n",
       "    }\n",
       "</style>\n",
       "<table border=\"1\" class=\"dataframe\">\n",
       "  <thead>\n",
       "    <tr style=\"text-align: right;\">\n",
       "      <th></th>\n",
       "      <th>request</th>\n",
       "      <th>offer</th>\n",
       "      <th>aid_related</th>\n",
       "      <th>medical_help</th>\n",
       "      <th>medical_products</th>\n",
       "      <th>search_and_rescue</th>\n",
       "      <th>security</th>\n",
       "      <th>military</th>\n",
       "      <th>water</th>\n",
       "      <th>food</th>\n",
       "      <th>...</th>\n",
       "      <th>aid_centers</th>\n",
       "      <th>other_infrastructure</th>\n",
       "      <th>weather_related</th>\n",
       "      <th>floods</th>\n",
       "      <th>storm</th>\n",
       "      <th>fire</th>\n",
       "      <th>earthquake</th>\n",
       "      <th>cold</th>\n",
       "      <th>other_weather</th>\n",
       "      <th>direct_report</th>\n",
       "    </tr>\n",
       "  </thead>\n",
       "  <tbody>\n",
       "    <tr>\n",
       "      <th>14724</th>\n",
       "      <td>0</td>\n",
       "      <td>0</td>\n",
       "      <td>1</td>\n",
       "      <td>0</td>\n",
       "      <td>0</td>\n",
       "      <td>0</td>\n",
       "      <td>0</td>\n",
       "      <td>0</td>\n",
       "      <td>0</td>\n",
       "      <td>0</td>\n",
       "      <td>...</td>\n",
       "      <td>0</td>\n",
       "      <td>0</td>\n",
       "      <td>1</td>\n",
       "      <td>1</td>\n",
       "      <td>0</td>\n",
       "      <td>0</td>\n",
       "      <td>0</td>\n",
       "      <td>0</td>\n",
       "      <td>0</td>\n",
       "      <td>0</td>\n",
       "    </tr>\n",
       "    <tr>\n",
       "      <th>22314</th>\n",
       "      <td>0</td>\n",
       "      <td>0</td>\n",
       "      <td>0</td>\n",
       "      <td>0</td>\n",
       "      <td>0</td>\n",
       "      <td>0</td>\n",
       "      <td>0</td>\n",
       "      <td>0</td>\n",
       "      <td>0</td>\n",
       "      <td>0</td>\n",
       "      <td>...</td>\n",
       "      <td>0</td>\n",
       "      <td>0</td>\n",
       "      <td>0</td>\n",
       "      <td>0</td>\n",
       "      <td>0</td>\n",
       "      <td>0</td>\n",
       "      <td>0</td>\n",
       "      <td>0</td>\n",
       "      <td>0</td>\n",
       "      <td>0</td>\n",
       "    </tr>\n",
       "    <tr>\n",
       "      <th>21366</th>\n",
       "      <td>0</td>\n",
       "      <td>0</td>\n",
       "      <td>0</td>\n",
       "      <td>0</td>\n",
       "      <td>0</td>\n",
       "      <td>0</td>\n",
       "      <td>0</td>\n",
       "      <td>0</td>\n",
       "      <td>0</td>\n",
       "      <td>0</td>\n",
       "      <td>...</td>\n",
       "      <td>0</td>\n",
       "      <td>0</td>\n",
       "      <td>0</td>\n",
       "      <td>0</td>\n",
       "      <td>0</td>\n",
       "      <td>0</td>\n",
       "      <td>0</td>\n",
       "      <td>0</td>\n",
       "      <td>0</td>\n",
       "      <td>0</td>\n",
       "    </tr>\n",
       "    <tr>\n",
       "      <th>8161</th>\n",
       "      <td>0</td>\n",
       "      <td>0</td>\n",
       "      <td>0</td>\n",
       "      <td>0</td>\n",
       "      <td>0</td>\n",
       "      <td>0</td>\n",
       "      <td>0</td>\n",
       "      <td>0</td>\n",
       "      <td>0</td>\n",
       "      <td>0</td>\n",
       "      <td>...</td>\n",
       "      <td>0</td>\n",
       "      <td>0</td>\n",
       "      <td>0</td>\n",
       "      <td>0</td>\n",
       "      <td>0</td>\n",
       "      <td>0</td>\n",
       "      <td>0</td>\n",
       "      <td>0</td>\n",
       "      <td>0</td>\n",
       "      <td>0</td>\n",
       "    </tr>\n",
       "    <tr>\n",
       "      <th>24564</th>\n",
       "      <td>0</td>\n",
       "      <td>0</td>\n",
       "      <td>0</td>\n",
       "      <td>0</td>\n",
       "      <td>0</td>\n",
       "      <td>0</td>\n",
       "      <td>0</td>\n",
       "      <td>0</td>\n",
       "      <td>0</td>\n",
       "      <td>0</td>\n",
       "      <td>...</td>\n",
       "      <td>0</td>\n",
       "      <td>0</td>\n",
       "      <td>0</td>\n",
       "      <td>0</td>\n",
       "      <td>0</td>\n",
       "      <td>0</td>\n",
       "      <td>0</td>\n",
       "      <td>0</td>\n",
       "      <td>0</td>\n",
       "      <td>0</td>\n",
       "    </tr>\n",
       "    <tr>\n",
       "      <th>...</th>\n",
       "      <td>...</td>\n",
       "      <td>...</td>\n",
       "      <td>...</td>\n",
       "      <td>...</td>\n",
       "      <td>...</td>\n",
       "      <td>...</td>\n",
       "      <td>...</td>\n",
       "      <td>...</td>\n",
       "      <td>...</td>\n",
       "      <td>...</td>\n",
       "      <td>...</td>\n",
       "      <td>...</td>\n",
       "      <td>...</td>\n",
       "      <td>...</td>\n",
       "      <td>...</td>\n",
       "      <td>...</td>\n",
       "      <td>...</td>\n",
       "      <td>...</td>\n",
       "      <td>...</td>\n",
       "      <td>...</td>\n",
       "      <td>...</td>\n",
       "    </tr>\n",
       "    <tr>\n",
       "      <th>17818</th>\n",
       "      <td>0</td>\n",
       "      <td>0</td>\n",
       "      <td>0</td>\n",
       "      <td>0</td>\n",
       "      <td>0</td>\n",
       "      <td>0</td>\n",
       "      <td>0</td>\n",
       "      <td>0</td>\n",
       "      <td>0</td>\n",
       "      <td>0</td>\n",
       "      <td>...</td>\n",
       "      <td>0</td>\n",
       "      <td>0</td>\n",
       "      <td>0</td>\n",
       "      <td>0</td>\n",
       "      <td>0</td>\n",
       "      <td>0</td>\n",
       "      <td>0</td>\n",
       "      <td>0</td>\n",
       "      <td>0</td>\n",
       "      <td>0</td>\n",
       "    </tr>\n",
       "    <tr>\n",
       "      <th>6958</th>\n",
       "      <td>1</td>\n",
       "      <td>0</td>\n",
       "      <td>1</td>\n",
       "      <td>0</td>\n",
       "      <td>0</td>\n",
       "      <td>0</td>\n",
       "      <td>0</td>\n",
       "      <td>0</td>\n",
       "      <td>0</td>\n",
       "      <td>0</td>\n",
       "      <td>...</td>\n",
       "      <td>0</td>\n",
       "      <td>0</td>\n",
       "      <td>0</td>\n",
       "      <td>0</td>\n",
       "      <td>0</td>\n",
       "      <td>0</td>\n",
       "      <td>0</td>\n",
       "      <td>0</td>\n",
       "      <td>0</td>\n",
       "      <td>1</td>\n",
       "    </tr>\n",
       "    <tr>\n",
       "      <th>25483</th>\n",
       "      <td>0</td>\n",
       "      <td>0</td>\n",
       "      <td>0</td>\n",
       "      <td>0</td>\n",
       "      <td>0</td>\n",
       "      <td>0</td>\n",
       "      <td>0</td>\n",
       "      <td>0</td>\n",
       "      <td>0</td>\n",
       "      <td>0</td>\n",
       "      <td>...</td>\n",
       "      <td>0</td>\n",
       "      <td>0</td>\n",
       "      <td>0</td>\n",
       "      <td>0</td>\n",
       "      <td>0</td>\n",
       "      <td>0</td>\n",
       "      <td>0</td>\n",
       "      <td>0</td>\n",
       "      <td>0</td>\n",
       "      <td>0</td>\n",
       "    </tr>\n",
       "    <tr>\n",
       "      <th>18161</th>\n",
       "      <td>0</td>\n",
       "      <td>0</td>\n",
       "      <td>1</td>\n",
       "      <td>0</td>\n",
       "      <td>0</td>\n",
       "      <td>0</td>\n",
       "      <td>0</td>\n",
       "      <td>0</td>\n",
       "      <td>0</td>\n",
       "      <td>0</td>\n",
       "      <td>...</td>\n",
       "      <td>0</td>\n",
       "      <td>0</td>\n",
       "      <td>1</td>\n",
       "      <td>1</td>\n",
       "      <td>0</td>\n",
       "      <td>0</td>\n",
       "      <td>0</td>\n",
       "      <td>0</td>\n",
       "      <td>0</td>\n",
       "      <td>0</td>\n",
       "    </tr>\n",
       "    <tr>\n",
       "      <th>3739</th>\n",
       "      <td>1</td>\n",
       "      <td>0</td>\n",
       "      <td>1</td>\n",
       "      <td>0</td>\n",
       "      <td>0</td>\n",
       "      <td>0</td>\n",
       "      <td>0</td>\n",
       "      <td>0</td>\n",
       "      <td>0</td>\n",
       "      <td>0</td>\n",
       "      <td>...</td>\n",
       "      <td>0</td>\n",
       "      <td>0</td>\n",
       "      <td>0</td>\n",
       "      <td>0</td>\n",
       "      <td>0</td>\n",
       "      <td>0</td>\n",
       "      <td>0</td>\n",
       "      <td>0</td>\n",
       "      <td>0</td>\n",
       "      <td>1</td>\n",
       "    </tr>\n",
       "  </tbody>\n",
       "</table>\n",
       "<p>5244 rows × 34 columns</p>\n",
       "</div>"
      ],
      "text/plain": [
       "       request  offer  aid_related  medical_help  medical_products  \\\n",
       "14724        0      0            1             0                 0   \n",
       "22314        0      0            0             0                 0   \n",
       "21366        0      0            0             0                 0   \n",
       "8161         0      0            0             0                 0   \n",
       "24564        0      0            0             0                 0   \n",
       "...        ...    ...          ...           ...               ...   \n",
       "17818        0      0            0             0                 0   \n",
       "6958         1      0            1             0                 0   \n",
       "25483        0      0            0             0                 0   \n",
       "18161        0      0            1             0                 0   \n",
       "3739         1      0            1             0                 0   \n",
       "\n",
       "       search_and_rescue  security  military  water  food  ...  aid_centers  \\\n",
       "14724                  0         0         0      0     0  ...            0   \n",
       "22314                  0         0         0      0     0  ...            0   \n",
       "21366                  0         0         0      0     0  ...            0   \n",
       "8161                   0         0         0      0     0  ...            0   \n",
       "24564                  0         0         0      0     0  ...            0   \n",
       "...                  ...       ...       ...    ...   ...  ...          ...   \n",
       "17818                  0         0         0      0     0  ...            0   \n",
       "6958                   0         0         0      0     0  ...            0   \n",
       "25483                  0         0         0      0     0  ...            0   \n",
       "18161                  0         0         0      0     0  ...            0   \n",
       "3739                   0         0         0      0     0  ...            0   \n",
       "\n",
       "       other_infrastructure  weather_related  floods  storm  fire  earthquake  \\\n",
       "14724                     0                1       1      0     0           0   \n",
       "22314                     0                0       0      0     0           0   \n",
       "21366                     0                0       0      0     0           0   \n",
       "8161                      0                0       0      0     0           0   \n",
       "24564                     0                0       0      0     0           0   \n",
       "...                     ...              ...     ...    ...   ...         ...   \n",
       "17818                     0                0       0      0     0           0   \n",
       "6958                      0                0       0      0     0           0   \n",
       "25483                     0                0       0      0     0           0   \n",
       "18161                     0                1       1      0     0           0   \n",
       "3739                      0                0       0      0     0           0   \n",
       "\n",
       "       cold  other_weather  direct_report  \n",
       "14724     0              0              0  \n",
       "22314     0              0              0  \n",
       "21366     0              0              0  \n",
       "8161      0              0              0  \n",
       "24564     0              0              0  \n",
       "...     ...            ...            ...  \n",
       "17818     0              0              0  \n",
       "6958      0              0              1  \n",
       "25483     0              0              0  \n",
       "18161     0              0              0  \n",
       "3739      0              0              1  \n",
       "\n",
       "[5244 rows x 34 columns]"
      ]
     },
     "execution_count": 72,
     "metadata": {},
     "output_type": "execute_result"
    }
   ],
   "source": [
    "Y_test_pred"
   ]
  },
  {
   "cell_type": "code",
   "execution_count": 73,
   "metadata": {},
   "outputs": [
    {
     "name": "stdout",
     "output_type": "stream",
     "text": [
      "                        precision    recall  f1-score   support\n",
      "\n",
      "               request       0.79      0.49      0.60       848\n",
      "                 offer       0.00      0.00      0.00        28\n",
      "           aid_related       0.75      0.69      0.72      2159\n",
      "          medical_help       0.67      0.06      0.12       402\n",
      "      medical_products       0.74      0.08      0.15       248\n",
      "     search_and_rescue       0.60      0.02      0.04       156\n",
      "              security       0.25      0.01      0.02        96\n",
      "              military       0.79      0.07      0.12       169\n",
      "                 water       0.92      0.34      0.49       313\n",
      "                  food       0.82      0.58      0.68       571\n",
      "               shelter       0.82      0.40      0.54       466\n",
      "              clothing       0.80      0.15      0.25        80\n",
      "                 money       0.80      0.03      0.06       126\n",
      "        missing_people       0.00      0.00      0.00        67\n",
      "              refugees       0.67      0.04      0.07       162\n",
      "                 death       0.85      0.17      0.29       259\n",
      "             other_aid       0.58      0.04      0.08       645\n",
      "infrastructure_related       0.00      0.00      0.00       322\n",
      "             transport       0.69      0.09      0.16       250\n",
      "             buildings       0.72      0.14      0.23       264\n",
      "           electricity       1.00      0.04      0.08       127\n",
      "                 tools       0.00      0.00      0.00        36\n",
      "             hospitals       0.00      0.00      0.00        48\n",
      "                 shops       0.00      0.00      0.00        25\n",
      "           aid_centers       0.00      0.00      0.00        55\n",
      "  other_infrastructure       0.00      0.00      0.00       211\n",
      "       weather_related       0.86      0.71      0.78      1504\n",
      "                floods       0.90      0.46      0.61       454\n",
      "                 storm       0.82      0.52      0.63       524\n",
      "                  fire       0.00      0.00      0.00        58\n",
      "            earthquake       0.89      0.78      0.83       502\n",
      "                  cold       1.00      0.05      0.09       123\n",
      "         other_weather       0.57      0.04      0.08       275\n",
      "         direct_report       0.77      0.34      0.47      1006\n",
      "\n",
      "             micro avg       0.80      0.40      0.54     12579\n",
      "             macro avg       0.56      0.19      0.24     12579\n",
      "          weighted avg       0.73      0.40      0.47     12579\n",
      "           samples avg       0.42      0.24      0.29     12579\n",
      "\n",
      "0.40903890160183065\n"
     ]
    },
    {
     "name": "stderr",
     "output_type": "stream",
     "text": [
      "/opt/anaconda3/lib/python3.7/site-packages/sklearn/metrics/_classification.py:1248: UndefinedMetricWarning: Precision and F-score are ill-defined and being set to 0.0 in labels with no predicted samples. Use `zero_division` parameter to control this behavior.\n",
      "  _warn_prf(average, modifier, msg_start, len(result))\n",
      "/opt/anaconda3/lib/python3.7/site-packages/sklearn/metrics/_classification.py:1248: UndefinedMetricWarning: Precision and F-score are ill-defined and being set to 0.0 in samples with no predicted labels. Use `zero_division` parameter to control this behavior.\n",
      "  _warn_prf(average, modifier, msg_start, len(result))\n",
      "/opt/anaconda3/lib/python3.7/site-packages/sklearn/metrics/_classification.py:1248: UndefinedMetricWarning: Recall and F-score are ill-defined and being set to 0.0 in samples with no true labels. Use `zero_division` parameter to control this behavior.\n",
      "  _warn_prf(average, modifier, msg_start, len(result))\n"
     ]
    }
   ],
   "source": [
    "print(classification_report(Y_test, Y_test_pred,target_names=category_name))\n",
    "print(accuracy_score(Y_test, Y_test_pred))"
   ]
  },
  {
   "cell_type": "markdown",
   "metadata": {},
   "source": [
    "### 9. Export your model as a pickle file"
   ]
  },
  {
   "cell_type": "code",
   "execution_count": 38,
   "metadata": {},
   "outputs": [],
   "source": [
    "# Create a pickle file for the model\n",
    "file_name = 'classifier.pkl'\n",
    "with open(file_name, 'wb') as f:\n",
    "    pickle.dump(cv, f)"
   ]
  },
  {
   "cell_type": "markdown",
   "metadata": {},
   "source": [
    "### 10. Use this notebook to complete `train.py`\n",
    "Use the template file attached in the Resources folder to write a script that runs the steps above to create a database and export a model based on a new dataset specified by the user."
   ]
  },
  {
   "cell_type": "code",
   "execution_count": null,
   "metadata": {},
   "outputs": [],
   "source": []
  }
 ],
 "metadata": {
  "kernelspec": {
   "display_name": "Python 3",
   "language": "python",
   "name": "python3"
  },
  "language_info": {
   "codemirror_mode": {
    "name": "ipython",
    "version": 3
   },
   "file_extension": ".py",
   "mimetype": "text/x-python",
   "name": "python",
   "nbconvert_exporter": "python",
   "pygments_lexer": "ipython3",
   "version": "3.7.10"
  }
 },
 "nbformat": 4,
 "nbformat_minor": 2
}
